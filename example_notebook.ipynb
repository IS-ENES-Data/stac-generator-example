{
 "cells": [
  {
   "cell_type": "markdown",
   "source": [
    "# Asset Scanner Example Notebook"
   ],
   "metadata": {}
  },
  {
   "cell_type": "markdown",
   "source": [
    "## Asset Extractor\n",
    "\n",
    "The Asset Extractor can be used to extract metadata about assets."
   ],
   "metadata": {}
  },
  {
   "cell_type": "code",
   "execution_count": 1,
   "source": [
    "!asset_scanner conf/extract-assets.yaml"
   ],
   "outputs": [
    {
     "output_type": "stream",
     "name": "stdout",
     "text": [
      "{\n",
      "    \"id\": \"0b747f6213efc1b5cd404e7050ce2809\",\n",
      "    \"body\": {\n",
      "        \"media_type\": \"OBJECT_STORE\",\n",
      "        \"location\": \"https://cmip6-zarr-o.s3-ext.jc.rl.ac.uk/CMIP6.CMIP.MOHC.UKESM1-0-LL/historical.r12i1p1f2.Amon.tas.gn.v20191210.zarr\",\n",
      "        \"filename\": \"historical.r12i1p1f2.Amon.tas.gn.v20191210.zarr\",\n",
      "        \"extension\": \".zarr\",\n",
      "        \"categories\": [\n",
      "            \"data\"\n",
      "        ],\n",
      "        \"properties\": {\n",
      "            \"mip_era\": \"CMIP6\",\n",
      "            \"activity_id\": \"CMIP\",\n",
      "            \"institution_id\": \"MOHC\",\n",
      "            \"source_id\": \"UKESM1-0-LL\",\n",
      "            \"experiment_id\": \"historical\",\n",
      "            \"member_id\": \"r12i1p1f2\",\n",
      "            \"table_id\": \"Amon\",\n",
      "            \"var_id\": \"tas\",\n",
      "            \"grid_label\": \"gn\",\n",
      "            \"version\": \"v20191210\"\n",
      "        },\n",
      "        \"item_id\": \"f4a0ee129eabd03a1a412e8a463f52ae\"\n",
      "    }\n",
      "}\n",
      "{\n",
      "    \"id\": \"4e6bfb98d29f4e4a98e2f20fceae6793\",\n",
      "    \"body\": {\n",
      "        \"media_type\": \"OBJECT_STORE\",\n",
      "        \"location\": \"https://cmip6-zarr-o.s3-ext.jc.rl.ac.uk/CMIP6.CMIP.MOHC.UKESM1-0-LL/historical.r4i1p1f2.Amon.tas.gn.v20190502.zarr\",\n",
      "        \"filename\": \"historical.r4i1p1f2.Amon.tas.gn.v20190502.zarr\",\n",
      "        \"extension\": \".zarr\",\n",
      "        \"categories\": [\n",
      "            \"data\"\n",
      "        ],\n",
      "        \"properties\": {\n",
      "            \"mip_era\": \"CMIP6\",\n",
      "            \"activity_id\": \"CMIP\",\n",
      "            \"institution_id\": \"MOHC\",\n",
      "            \"source_id\": \"UKESM1-0-LL\",\n",
      "            \"experiment_id\": \"historical\",\n",
      "            \"member_id\": \"r4i1p1f2\",\n",
      "            \"table_id\": \"Amon\",\n",
      "            \"var_id\": \"tas\",\n",
      "            \"grid_label\": \"gn\",\n",
      "            \"version\": \"v20190502\"\n",
      "        },\n",
      "        \"item_id\": \"f8dd8208e2fdb8cdcb582126e3007041\"\n",
      "    }\n",
      "}\n",
      "Processed 2 files from https://raw.githubusercontent.com/cedadev/cmip6-object-store/master/catalogs/ceda-zarr-cmip6.json in 0:00:19.393301\n"
     ]
    }
   ],
   "metadata": {}
  },
  {
   "cell_type": "markdown",
   "source": [
    "## Item Generator\n",
    "\n",
    "The item generator is used to aggregate extracted facets from assets generated in the Asset Extractor. This can then be used to construct a STAC Item."
   ],
   "metadata": {}
  },
  {
   "cell_type": "code",
   "execution_count": 2,
   "source": [
    "!asset_scanner conf/extract-items.yaml"
   ],
   "outputs": [
    {
     "output_type": "stream",
     "name": "stdout",
     "text": [
      "{\n",
      "    \"id\": \"f4a0ee129eabd03a1a412e8a463f52ae\",\n",
      "    \"body\": {\n",
      "        \"item_id\": \"f4a0ee129eabd03a1a412e8a463f52ae\",\n",
      "        \"type\": \"item\",\n",
      "        \"collection_id\": \"cmip6\",\n",
      "        \"properties\": {\n",
      "            \"table_id\": [\n",
      "                \"Amon\"\n",
      "            ],\n",
      "            \"source_id\": [\n",
      "                \"UKESM1-0-LL\"\n",
      "            ],\n",
      "            \"mip_era\": [\n",
      "                \"CMIP6\"\n",
      "            ],\n",
      "            \"institution_id\": [\n",
      "                \"MOHC\"\n",
      "            ],\n",
      "            \"activity_id\": [\n",
      "                \"CMIP\"\n",
      "            ],\n",
      "            \"var_id\": [\n",
      "                \"tas\"\n",
      "            ],\n",
      "            \"version\": [\n",
      "                \"v20191210\"\n",
      "            ],\n",
      "            \"experiment_id\": [\n",
      "                \"historical\"\n",
      "            ],\n",
      "            \"member_id\": [\n",
      "                \"r12i1p1f2\"\n",
      "            ],\n",
      "            \"grid_label\": [\n",
      "                \"gn\"\n",
      "            ]\n",
      "        }\n",
      "    }\n",
      "}\n",
      "{\n",
      "    \"id\": \"f8dd8208e2fdb8cdcb582126e3007041\",\n",
      "    \"body\": {\n",
      "        \"item_id\": \"f8dd8208e2fdb8cdcb582126e3007041\",\n",
      "        \"type\": \"item\",\n",
      "        \"collection_id\": \"cmip6\",\n",
      "        \"properties\": {\n",
      "            \"table_id\": [\n",
      "                \"Amon\"\n",
      "            ],\n",
      "            \"source_id\": [\n",
      "                \"UKESM1-0-LL\"\n",
      "            ],\n",
      "            \"mip_era\": [\n",
      "                \"CMIP6\"\n",
      "            ],\n",
      "            \"institution_id\": [\n",
      "                \"MOHC\"\n",
      "            ],\n",
      "            \"activity_id\": [\n",
      "                \"CMIP\"\n",
      "            ],\n",
      "            \"var_id\": [\n",
      "                \"tas\"\n",
      "            ],\n",
      "            \"version\": [\n",
      "                \"v20190502\"\n",
      "            ],\n",
      "            \"experiment_id\": [\n",
      "                \"historical\"\n",
      "            ],\n",
      "            \"member_id\": [\n",
      "                \"r4i1p1f2\"\n",
      "            ],\n",
      "            \"grid_label\": [\n",
      "                \"gn\"\n",
      "            ]\n",
      "        }\n",
      "    }\n",
      "}\n"
     ]
    }
   ],
   "metadata": {}
  },
  {
   "cell_type": "markdown",
   "source": [
    "# Collection Generator\n",
    "\n",
    "The collection generator is used to aggregate the extents and summaries from the STAC Items. This is used to create a STAC Collection."
   ],
   "metadata": {}
  },
  {
   "cell_type": "code",
   "execution_count": 5,
   "source": [
    "!asset_scanner conf/extract-collections.yaml"
   ],
   "outputs": [
    {
     "output_type": "stream",
     "name": "stdout",
     "text": [
      "{\n",
      "    \"id\": \"cmip6\",\n",
      "    \"body\": {\n",
      "        \"type\": \"Collection\",\n",
      "        \"license\": \"default\",\n",
      "        \"summaries\": {\n",
      "            \"institution_id\": [\n",
      "                \"MOHC\"\n",
      "            ],\n",
      "            \"source_id\": [\n",
      "                \"UKESM1-0-LL\"\n",
      "            ],\n",
      "            \"mip_era\": [\n",
      "                \"CMIP6\"\n",
      "            ],\n",
      "            \"var_id\": [\n",
      "                \"tas\"\n",
      "            ],\n",
      "            \"table_id\": [\n",
      "                \"Amon\"\n",
      "            ],\n",
      "            \"version\": [\n",
      "                \"v20190502\",\n",
      "                \"v20191210\"\n",
      "            ],\n",
      "            \"activity_id\": [\n",
      "                \"CMIP\"\n",
      "            ]\n",
      "        }\n",
      "    }\n",
      "}\n"
     ]
    }
   ],
   "metadata": {}
  }
 ],
 "metadata": {
  "kernelspec": {
   "name": "python3",
   "display_name": "Python 3.8.12 64-bit ('.venv')"
  },
  "language_info": {
   "codemirror_mode": {
    "name": "ipython",
    "version": 3
   },
   "file_extension": ".py",
   "mimetype": "text/x-python",
   "name": "python",
   "nbconvert_exporter": "python",
   "pygments_lexer": "ipython3",
   "version": "3.8.12"
  },
  "interpreter": {
   "hash": "a7cb07570df11de2fa212ac1ab607068b4d969b9d6ee1331bafc1d47c1ec079e"
  }
 },
 "nbformat": 4,
 "nbformat_minor": 5
}