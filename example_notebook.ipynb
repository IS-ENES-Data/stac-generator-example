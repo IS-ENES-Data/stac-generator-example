{
 "cells": [
  {
   "cell_type": "markdown",
   "id": "9c0b9bef",
   "metadata": {},
   "source": [
    "# Asset Scanner Example Notebook"
   ]
  },
  {
   "cell_type": "markdown",
   "id": "7684832d",
   "metadata": {},
   "source": [
    "## Asset Extractor\n",
    "\n",
    "The Asset Extractor can be used to extract metadata about assets."
   ]
  },
  {
   "cell_type": "code",
   "execution_count": 1,
   "id": "928498b5",
   "metadata": {},
   "outputs": [
    {
     "name": "stdout",
     "output_type": "stream",
     "text": [
      "2021-11-29 15:02:13,577 asset_scanner.plugins.input_plugins.intake_esm_input INFO Opening catalog\r\n",
      "2021-11-29 15:02:21,092 asset_scanner.plugins.input_plugins.intake_esm_input INFO Found 2 items\r\n",
      "2021-11-29 15:02:21,236 asset_generator.media_handlers.object_store_handler INFO Extracting metadata for: https://cmip6-zarr-o.s3-ext.jc.rl.ac.uk/CMIP6.CMIP.MOHC.UKESM1-0-LL/historical.r12i1p1f2.Amon.tas.gn.v20191210.zarr with checksum: None\r\n",
      "{'id': '0b747f6213efc1b5cd404e7050ce2809', 'body': {'media_type': 'OBJECT_STORE', 'location': 'https://cmip6-zarr-o.s3-ext.jc.rl.ac.uk/CMIP6.CMIP.MOHC.UKESM1-0-LL/historical.r12i1p1f2.Amon.tas.gn.v20191210.zarr', 'filename': 'historical.r12i1p1f2.Amon.tas.gn.v20191210.zarr', 'extension': '.zarr', 'categories': ['data']}}\r\n",
      "2021-11-29 15:02:21,413 asset_generator.media_handlers.object_store_handler INFO Extracting metadata for: https://cmip6-zarr-o.s3-ext.jc.rl.ac.uk/CMIP6.CMIP.MOHC.UKESM1-0-LL/historical.r4i1p1f2.Amon.tas.gn.v20190502.zarr with checksum: None\r\n",
      "{'id': '4e6bfb98d29f4e4a98e2f20fceae6793', 'body': {'media_type': 'OBJECT_STORE', 'location': 'https://cmip6-zarr-o.s3-ext.jc.rl.ac.uk/CMIP6.CMIP.MOHC.UKESM1-0-LL/historical.r4i1p1f2.Amon.tas.gn.v20190502.zarr', 'filename': 'historical.r4i1p1f2.Amon.tas.gn.v20190502.zarr', 'extension': '.zarr', 'categories': ['data']}}\r\n",
      "Processed 2 files from https://raw.githubusercontent.com/cedadev/cmip6-object-store/master/catalogs/ceda-zarr-cmip6.json in 0:00:08.103486\r\n"
     ]
    }
   ],
   "source": [
    "!asset_scanner conf/extract-assets.yaml"
   ]
  },
  {
   "cell_type": "markdown",
   "id": "de3156f7",
   "metadata": {},
   "source": [
    "## Item Generator\n",
    "\n",
    "The item generator is used to extract facets from assets. This can then be used to construct a STAC Item."
   ]
  },
  {
   "cell_type": "code",
   "execution_count": 2,
   "id": "964d7fc1",
   "metadata": {},
   "outputs": [
    {
     "name": "stdout",
     "output_type": "stream",
     "text": [
      "2021-11-29 15:02:22,379 asset_scanner.plugins.input_plugins.intake_esm_input INFO Opening catalog\r\n",
      "2021-11-29 15:02:29,277 asset_scanner.plugins.input_plugins.intake_esm_input INFO Found 2 items\r\n",
      "2021-11-29 15:02:29,278 item_generator.core.facet_extractor INFO Processing: https://cmip6-zarr-o.s3-ext.jc.rl.ac.uk/CMIP6.CMIP.MOHC.UKESM1-0-LL/historical.r12i1p1f2.Amon.tas.gn.v20191210.zarr\r\n",
      "2021-11-29 15:02:29,296 item_generator.extraction_methods.regex_extract INFO Found matches for regex extract\r\n",
      "{'id': '0b747f6213efc1b5cd404e7050ce2809', 'body': {'item_id': '0b747f6213efc1b5cd404e7050ce2809', 'type': 'item', 'properties': {'mip_era': 'CMIP6', 'activity_id': 'CMIP', 'institution_id': 'MOHC', 'source_id': 'UKESM1-0-LL', 'experiment_id': 'historical', 'member_id': 'r12i1p1f2', 'table_id': 'Amon', 'variable_id': 'tas', 'grid_label': 'gn', 'version': 'v20191210'}}}\r\n",
      "{'id': '0b747f6213efc1b5cd404e7050ce2809', 'body': {'item_id': '0b747f6213efc1b5cd404e7050ce2809'}}\r\n",
      "2021-11-29 15:02:29,297 item_generator.core.facet_extractor INFO Processing: https://cmip6-zarr-o.s3-ext.jc.rl.ac.uk/CMIP6.CMIP.MOHC.UKESM1-0-LL/historical.r4i1p1f2.Amon.tas.gn.v20190502.zarr\r\n",
      "2021-11-29 15:02:29,297 item_generator.extraction_methods.regex_extract INFO Found matches for regex extract\r\n",
      "{'id': '4e6bfb98d29f4e4a98e2f20fceae6793', 'body': {'item_id': '4e6bfb98d29f4e4a98e2f20fceae6793', 'type': 'item', 'properties': {'mip_era': 'CMIP6', 'activity_id': 'CMIP', 'institution_id': 'MOHC', 'source_id': 'UKESM1-0-LL', 'experiment_id': 'historical', 'member_id': 'r4i1p1f2', 'table_id': 'Amon', 'variable_id': 'tas', 'grid_label': 'gn', 'version': 'v20190502'}}}\r\n",
      "{'id': '4e6bfb98d29f4e4a98e2f20fceae6793', 'body': {'item_id': '4e6bfb98d29f4e4a98e2f20fceae6793'}}\r\n",
      "Processed 2 files from https://raw.githubusercontent.com/cedadev/cmip6-object-store/master/catalogs/ceda-zarr-cmip6.json in 0:00:06.918937\r\n"
     ]
    }
   ],
   "source": [
    "!asset_scanner conf/extract-items.yaml"
   ]
  },
  {
   "cell_type": "code",
   "execution_count": 2,
   "id": "27e69941",
   "metadata": {},
   "outputs": [],
   "source": []
  }
 ],
 "metadata": {
  "kernelspec": {
   "display_name": "Python 3 (ipykernel)",
   "language": "python",
   "name": "python3"
  },
  "language_info": {
   "codemirror_mode": {
    "name": "ipython",
    "version": 3
   },
   "file_extension": ".py",
   "mimetype": "text/x-python",
   "name": "python",
   "nbconvert_exporter": "python",
   "pygments_lexer": "ipython3",
   "version": "3.8.5"
  }
 },
 "nbformat": 4,
 "nbformat_minor": 5
}