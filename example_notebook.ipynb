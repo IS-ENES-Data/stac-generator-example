{
 "cells": [
  {
   "cell_type": "markdown",
   "id": "9c0b9bef",
   "metadata": {},
   "source": [
    "# Asset Scanner Example Notebook"
   ]
  },
  {
   "cell_type": "markdown",
   "id": "7684832d",
   "metadata": {},
   "source": [
    "## Asset Extractor\n",
    "\n",
    "The Asset Extractor can be used to extract metadata about assets."
   ]
  },
  {
   "cell_type": "code",
   "execution_count": 7,
   "id": "928498b5",
   "metadata": {},
   "outputs": [
    {
     "name": "stdout",
     "output_type": "stream",
     "text": [
      "2021-09-28 20:49:21,797 asset_scanner.plugins.input_plugins.intake_esm_input INFO Opening catalog\n",
      "2021-09-28 20:49:29,801 asset_scanner.plugins.input_plugins.intake_esm_input INFO Found 2 items\n",
      "2021-09-28 20:49:29,976 asset_extractor.media_handlers.object_store_handler INFO Extracting metadata for: http://cmip6-zarr-o.s3-ext.jc.rl.ac.uk/CMIP6.CMIP.MOHC.UKESM1-0-LL/historical.r12i1p1f2.Amon.tas.gn.v20191210.zarr with checksum: None\n",
      "2021-09-28 20:49:29,980 botocore.credentials INFO Found credentials in shared credentials file: ~/.aws/credentials\n",
      "{'id': '4c5ec6221e4ab394943fd6253a6157f7', 'body': {'media_type': 'OBJECT_STORE', 'filepath_type_location': 'http://cmip6-zarr-o.s3-ext.jc.rl.ac.uk/CMIP6.CMIP.MOHC.UKESM1-0-LL/historical.r12i1p1f2.Amon.tas.gn.v20191210.zarr', 'filename': 'historical.r12i1p1f2.Amon.tas.gn.v20191210.zarr', 'extension': '.zarr', 'categories': ['data']}}\n",
      "2021-09-28 20:49:30,192 asset_extractor.media_handlers.object_store_handler INFO Extracting metadata for: http://cmip6-zarr-o.s3-ext.jc.rl.ac.uk/CMIP6.CMIP.MOHC.UKESM1-0-LL/historical.r4i1p1f2.Amon.tas.gn.v20190502.zarr with checksum: None\n",
      "{'id': 'c4b8f1578ed806f080f62470ebce2dcd', 'body': {'media_type': 'OBJECT_STORE', 'filepath_type_location': 'http://cmip6-zarr-o.s3-ext.jc.rl.ac.uk/CMIP6.CMIP.MOHC.UKESM1-0-LL/historical.r4i1p1f2.Amon.tas.gn.v20190502.zarr', 'filename': 'historical.r4i1p1f2.Amon.tas.gn.v20190502.zarr', 'extension': '.zarr', 'categories': ['data']}}\n",
      "Processed 2 files from https://raw.githubusercontent.com/cedadev/cmip6-object-store/master/catalogs/ceda-zarr-cmip6.json in 0:00:08.479570\n"
     ]
    }
   ],
   "source": [
    "!asset_scanner conf/extract-assets.yaml"
   ]
  },
  {
   "cell_type": "markdown",
   "id": "de3156f7",
   "metadata": {},
   "source": [
    "## Item Generator\n",
    "\n",
    "The item generator is used to extract facets from assets. This can then be used to construct a STAC Item."
   ]
  },
  {
   "cell_type": "code",
   "execution_count": 9,
   "id": "964d7fc1",
   "metadata": {},
   "outputs": [
    {
     "name": "stdout",
     "output_type": "stream",
     "text": [
      "2021-09-28 20:49:46,386 asset_scanner.plugins.input_plugins.intake_esm_input INFO Opening catalog\n",
      "2021-09-28 20:49:53,433 asset_scanner.plugins.input_plugins.intake_esm_input INFO Found 2 items\n",
      "2021-09-28 20:49:53,435 item_generator.core.facet_extractor INFO Processing: /CMIP6.CMIP.MOHC.UKESM1-0-LL/historical.r12i1p1f2.Amon.tas.gn.v20191210.zarr\n",
      "2021-09-28 20:49:53,497 item_generator.extraction_methods.regex_extract INFO Found matches for regex extract\n",
      "{'id': '368ca95f3309672ceb66a9f124f0fc8c', 'body': {'item_id': '368ca95f3309672ceb66a9f124f0fc8c', 'type': 'item', 'properties': {'mip_era': 'CMIP6', 'activity_id': 'CMIP', 'institution_id': 'MOHC', 'source_id': 'UKESM1-0-LL', 'experiment_id': 'historical', 'member_id': 'r12i1p1f2', 'table_id': 'Amon', 'variable_id': 'tas', 'grid_label': 'gn', 'version': 'v20191210'}}}\n",
      "{'id': '368ca95f3309672ceb66a9f124f0fc8c', 'body': {'collection_id': '368ca95f3309672ceb66a9f124f0fc8c'}}\n",
      "2021-09-28 20:49:53,497 item_generator.core.facet_extractor INFO Processing: /CMIP6.CMIP.MOHC.UKESM1-0-LL/historical.r4i1p1f2.Amon.tas.gn.v20190502.zarr\n",
      "2021-09-28 20:49:53,499 item_generator.extraction_methods.regex_extract INFO Found matches for regex extract\n",
      "{'id': '4dfbda18d335385742738fad6314450d', 'body': {'item_id': '4dfbda18d335385742738fad6314450d', 'type': 'item', 'properties': {'mip_era': 'CMIP6', 'activity_id': 'CMIP', 'institution_id': 'MOHC', 'source_id': 'UKESM1-0-LL', 'experiment_id': 'historical', 'member_id': 'r4i1p1f2', 'table_id': 'Amon', 'variable_id': 'tas', 'grid_label': 'gn', 'version': 'v20190502'}}}\n",
      "{'id': '4dfbda18d335385742738fad6314450d', 'body': {'collection_id': '4dfbda18d335385742738fad6314450d'}}\n",
      "Processed 2 files from https://raw.githubusercontent.com/cedadev/cmip6-object-store/master/catalogs/ceda-zarr-cmip6.json in 0:00:07.113432\n"
     ]
    }
   ],
   "source": [
    "!asset_scanner conf/extract-items.yaml"
   ]
  },
  {
   "cell_type": "code",
   "execution_count": null,
   "id": "27e69941",
   "metadata": {},
   "outputs": [],
   "source": []
  }
 ],
 "metadata": {
  "kernelspec": {
   "display_name": "Python 3 (ipykernel)",
   "language": "python",
   "name": "python3"
  },
  "language_info": {
   "codemirror_mode": {
    "name": "ipython",
    "version": 3
   },
   "file_extension": ".py",
   "mimetype": "text/x-python",
   "name": "python",
   "nbconvert_exporter": "python",
   "pygments_lexer": "ipython3",
   "version": "3.8.5"
  }
 },
 "nbformat": 4,
 "nbformat_minor": 5
}
